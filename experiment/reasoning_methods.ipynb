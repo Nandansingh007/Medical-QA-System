{
 "cells": [
  {
   "cell_type": "markdown",
   "metadata": {},
   "source": [
    "#### Importing Necessary Libraries"
   ]
  },
  {
   "cell_type": "code",
   "execution_count": 15,
   "metadata": {},
   "outputs": [],
   "source": [
    "from langchain.embeddings import OpenAIEmbeddings\n",
    "from langchain.chat_models import ChatOpenAI\n",
    "from langchain.vectorstores import Pinecone\n",
    "from langchain_pinecone import PineconeVectorStore\n",
    "from pinecone.grpc import PineconeGRPC as Pinecone\n",
    "import os\n",
    "import json\n",
    "from datetime import datetime"
   ]
  },
  {
   "cell_type": "markdown",
   "metadata": {},
   "source": [
    "#### Initializing and Accessing Pinecone Database and OpenAI"
   ]
  },
  {
   "cell_type": "code",
   "execution_count": 16,
   "metadata": {},
   "outputs": [],
   "source": [
    "def initialize_components(openai_api_key, pinecone_api_key, index_name):\n",
    "    \"\"\"Initialize and return the Pinecone index, vectorstore, and language model.\"\"\"\n",
    "    pc = Pinecone(api_key=pinecone_api_key)\n",
    "    index = pc.Index(index_name)\n",
    "\n",
    "    embeddings = OpenAIEmbeddings(openai_api_key=openai_api_key)\n",
    "    vectorstore = PineconeVectorStore(index=index, embedding=embeddings, text_key=\"text\")\n",
    "    \n",
    "    llm = ChatOpenAI(temperature=0.1, model=\"gpt-4\", openai_api_key=openai_api_key)\n",
    "    return index, vectorstore, llm"
   ]
  },
  {
   "cell_type": "markdown",
   "metadata": {},
   "source": [
    "#### Retriving relavant context based on the given questions"
   ]
  },
  {
   "cell_type": "code",
   "execution_count": 17,
   "metadata": {},
   "outputs": [],
   "source": [
    "def get_context(vectorstore, question, k=4):\n",
    "    \"\"\"Retrieve relevant context based on the given question.\"\"\"\n",
    "    results = vectorstore.similarity_search_with_score(question, k=k)\n",
    "    return \"\\n\".join([doc.page_content for doc, _ in results])"
   ]
  },
  {
   "cell_type": "markdown",
   "metadata": {},
   "source": [
    "#### Function to validate the answer"
   ]
  },
  {
   "cell_type": "code",
   "execution_count": 18,
   "metadata": {},
   "outputs": [],
   "source": [
    "def validate_response(response, options):\n",
    "    \"\"\"\n",
    "    Validate that the response contains one of the valid options (A, B, C, D).\n",
    "    If no valid answer is found, return a warning message.\n",
    "    \"\"\"\n",
    "    valid_answers = [\"A\", \"B\", \"C\", \"D\"]\n",
    "    for answer in valid_answers:\n",
    "        if f\"Final Answer: {answer}\" in response:\n",
    "            return response\n",
    "    return \"Invalid response: No valid answer found. Please check the reasoning.\""
   ]
  },
  {
   "cell_type": "markdown",
   "metadata": {},
   "source": [
    "#### Chain-Of-Thought (COT) Reasoning"
   ]
  },
  {
   "cell_type": "code",
   "execution_count": 19,
   "metadata": {},
   "outputs": [],
   "source": [
    "def chain_of_thought_reasoning(llm, question, options, context):\n",
    "    \"\"\"Perform chain-of-thought reasoning.\"\"\"\n",
    "    prompt = \"\"\"\n",
    "    Use chain-of-thought reasoning to solve this medical question. Analyze the context step by step and choose the most appropriate answer:\n",
    "\n",
    "    Question: {question}\n",
    "\n",
    "    Options:\n",
    "    {options}\n",
    "\n",
    "    Relevant Context:\n",
    "    {context}\n",
    "\n",
    "    Let's solve this step by step:\n",
    "    1. Identify the key patient information and medical condition.\n",
    "    2. Consider relevant medical guidelines and best practices from the context.\n",
    "    3. Evaluate each option against the guidelines and the patient's specific situation.\n",
    "    4. Choose the most appropriate answer from the options.\n",
    "\n",
    "    Provide your reasoning and final answer in this format:\n",
    "    Reasoning Chain:\n",
    "    [Step-by-step reasoning]\n",
    "\n",
    "    Final Answer: [Selected option letter]\n",
    "    Confidence: [High/Medium/Low]\n",
    "    Justification: [Brief explanation of final choice]\n",
    "    \"\"\"\n",
    "    messages = [{\"role\": \"user\", \"content\": prompt.format(\n",
    "        question=question,\n",
    "        options=\"\\n\".join(options),\n",
    "        context=context\n",
    "    )}]\n",
    "    response = llm.invoke(messages).content\n",
    "    return validate_response(response, options)\n"
   ]
  },
  {
   "cell_type": "markdown",
   "metadata": {},
   "source": [
    "#### Tree-Of-Thought Reasoning"
   ]
  },
  {
   "cell_type": "code",
   "execution_count": 20,
   "metadata": {},
   "outputs": [],
   "source": [
    "def tree_of_thought_reasoning(llm, question, options, context):\n",
    "    \"\"\"Perform tree-of-thought reasoning.\"\"\"\n",
    "    prompt = \"\"\"\n",
    "    Use tree-of-thought reasoning to explore different decision paths for this medical question. Analyze the context, explore various paths, and choose the most appropriate answer:\n",
    "\n",
    "    Question: {question}\n",
    "\n",
    "    Options:\n",
    "    {options}\n",
    "\n",
    "    Relevant Context:\n",
    "    {context}\n",
    "\n",
    "    Explore multiple reasoning paths:\n",
    "    1. Safety Considerations Path:\n",
    "       - What are the safety implications of each option?\n",
    "       - What are the potential risks and contraindications?\n",
    "\n",
    "    2. Clinical Guidelines Path:\n",
    "       - Which options align with standard medical protocols?\n",
    "       - What do the guidelines recommend for this situation?\n",
    "\n",
    "    3. Patient-Specific Factors Path:\n",
    "       - How do the patient's specific circumstances affect each option?\n",
    "       - What are the individual risk factors and considerations?\n",
    "\n",
    "    After analyzing each path, select the best answer from the options.\n",
    "\n",
    "    Provide your analysis and final answer in this format:\n",
    "    Path 1 (Safety) Analysis:\n",
    "    [Analysis]\n",
    "\n",
    "    Path 2 (Guidelines) Analysis:\n",
    "    [Analysis]\n",
    "\n",
    "    Path 3 (Patient-Specific) Analysis:\n",
    "    [Analysis]\n",
    "\n",
    "    Combined Decision:\n",
    "    Final Answer: [Selected option letter]\n",
    "    Confidence: [High/Medium/Low]\n",
    "    Justification: [Brief explanation combining insights from all paths]\n",
    "    \"\"\"\n",
    "    messages = [{\"role\": \"user\", \"content\": prompt.format(\n",
    "        question=question,\n",
    "        options=\"\\n\".join(options),\n",
    "        context=context\n",
    "    )}]\n",
    "    response = llm.invoke(messages).content\n",
    "    return validate_response(response, options)\n"
   ]
  },
  {
   "cell_type": "markdown",
   "metadata": {},
   "source": [
    "#### Structural Medical Reasoning"
   ]
  },
  {
   "cell_type": "code",
   "execution_count": 21,
   "metadata": {},
   "outputs": [],
   "source": [
    "def structured_medical_reasoning(llm, question, options, context):\n",
    "    \"\"\"Perform structured medical reasoning using the SOAP format.\"\"\"\n",
    "    prompt = \"\"\"\n",
    "    Apply structured medical reasoning using the SOAP format to analyze this case and choose the most appropriate answer:\n",
    "\n",
    "    Question: {question}\n",
    "\n",
    "    Options:\n",
    "    {options}\n",
    "\n",
    "    Relevant Context:\n",
    "    {context}\n",
    "\n",
    "    Provide your analysis in SOAP format and make a final decision:\n",
    "\n",
    "    Subjective:\n",
    "    - Chief complaint\n",
    "    - Relevant history\n",
    "    - Patient's current situation\n",
    "\n",
    "    Objective:\n",
    "    - Key findings from the case\n",
    "    - Relevant data from context\n",
    "    - Evidence-based guidelines applicable\n",
    "\n",
    "    Assessment:\n",
    "    - Analysis of the medical situation\n",
    "    - Evaluation of each treatment option\n",
    "    - Risk-benefit analysis\n",
    "\n",
    "    Plan:\n",
    "    Final Answer: [Selected option letter]\n",
    "    Confidence: [High/Medium/Low]\n",
    "    Justification: [Medical reasoning for the chosen plan]\n",
    "    \"\"\"\n",
    "    messages = [{\"role\": \"user\", \"content\": prompt.format(\n",
    "        question=question,\n",
    "        options=\"\\n\".join(options),\n",
    "        context=context\n",
    "    )}]\n",
    "    response = llm.invoke(messages).content\n",
    "    return validate_response(response, options)\n"
   ]
  },
  {
   "cell_type": "markdown",
   "metadata": {},
   "source": [
    "#### Running the Experiment for each reasoning Process and Saving the Result"
   ]
  },
  {
   "cell_type": "code",
   "execution_count": 22,
   "metadata": {},
   "outputs": [],
   "source": [
    "def run_experiment(openai_api_key, pinecone_api_key, index_name, question, options):\n",
    "    \"\"\"Run all reasoning methods and save the results.\"\"\"\n",
    "    index, vectorstore, llm = initialize_components(openai_api_key, pinecone_api_key, index_name)\n",
    "    context = get_context(vectorstore, question)\n",
    "\n",
    "    experiments = {\n",
    "        \"chain_of_thought\": {\n",
    "            \"method\": \"Chain-of-thought reasoning\",\n",
    "            \"response\": chain_of_thought_reasoning(llm, question, options, context)\n",
    "        },\n",
    "        \"tree_of_thought\": {\n",
    "            \"method\": \"Tree-of-thought reasoning\",\n",
    "            \"response\": tree_of_thought_reasoning(llm, question, options, context)\n",
    "        },\n",
    "        \"structured_medical\": {\n",
    "            \"method\": \"Structured medical reasoning (SOAP)\",\n",
    "            \"response\": structured_medical_reasoning(llm, question, options, context)\n",
    "        }\n",
    "    }\n",
    "\n",
    "    results = {\n",
    "        \"question\": question,\n",
    "        \"options\": options,\n",
    "        \"context\": context,\n",
    "        \"experiments\": experiments\n",
    "    }\n",
    "\n",
    "    # Save results to file\n",
    "    timestamp = datetime.now().strftime(\"%Y%m%d_%H%M%S\")\n",
    "    filename = f\"reasoning_experiments_{timestamp}.json\"\n",
    "    with open(filename, 'w', encoding='utf-8') as f:\n",
    "        json.dump(results, f, indent=2, ensure_ascii=False)\n",
    "\n",
    "    print(f\"\\nResults saved to: {filename}\")\n",
    "    return results"
   ]
  },
  {
   "cell_type": "markdown",
   "metadata": {},
   "source": [
    "#### Main Function"
   ]
  },
  {
   "cell_type": "code",
   "execution_count": 23,
   "metadata": {},
   "outputs": [],
   "source": [
    "def main():\n",
    "    \"\"\"Main function to run the reasoning experiment.\"\"\"\n",
    "    sample_mcq = {\n",
    "        \"question\": \"A 32-year-old male patient with a history of substance abuse disorder (heroin) has presented with severe toothache for the last three days. His medical history reveals he is in active treatment for substance use disorder and he has been maintaining a drug-free lifestyle for the past six months. He's currently having a severe dental abscess in the lower right second molar confirmed by dental radiography. How would you manage his condition?\",\n",
    "        \"options\": [\n",
    "            \"A) Prescribe opioids for pain relief\",\n",
    "            \"B) Consult with the patient's addiction specialist before prescribing opioids for pain management\",\n",
    "            \"C) Prescribe non-opioid analgesics and refer the patient to a dental surgeon for abscess management\",\n",
    "            \"D) Ignore the patient's request for pain relief due to his substance abuse history\"\n",
    "        ]\n",
    "    }\n",
    "\n",
    "    # Run the experiment\n",
    "    results = run_experiment(\n",
    "        openai_api_key=os.getenv(\"OPENAI_API_KEY\"),\n",
    "        pinecone_api_key=os.getenv(\"PINECONE_API_KEY\"),\n",
    "        index_name=\"medicalqabot\",\n",
    "        question=sample_mcq[\"question\"],\n",
    "        options=sample_mcq[\"options\"]\n",
    "    )\n",
    "\n",
    "    # Print summary\n",
    "    print(\"\\nExperiment Summary:\")\n",
    "    for method, data in results[\"experiments\"].items():\n",
    "        print(f\"\\n{method.replace('_', ' ').title()}:\")\n",
    "    \n",
    "        response = data.get(\"response\", \"\")\n",
    "        print(f\"Response:\\n{response[:500]}...\")  \n",
    "\n"
   ]
  },
  {
   "cell_type": "code",
   "execution_count": 24,
   "metadata": {},
   "outputs": [
    {
     "name": "stdout",
     "output_type": "stream",
     "text": [
      "\n",
      "Results saved to: reasoning_experiments_20250112_230844.json\n",
      "\n",
      "Experiment Summary:\n",
      "\n",
      "Chain Of Thought:\n",
      "Response:\n",
      "Reasoning Chain:\n",
      "1. The patient is a 32-year-old male with a history of substance abuse disorder (heroin) and is currently in active treatment for substance use disorder. He has been maintaining a drug-free lifestyle for the past six months. He is presenting with severe toothache due to a dental abscess in the lower right second molar.\n",
      "2. The Dental Guideline on Prescribing Opioids for Acute Pain Management advises against prescribing opioids for patients with a history of substance abuse disord...\n",
      "\n",
      "Tree Of Thought:\n",
      "Response:\n",
      "Path 1 (Safety) Analysis:\n",
      "Option A (prescribing opioids) poses a significant risk due to the patient's history of substance abuse. Option D (ignoring the patient's request for pain relief) is not safe or ethical as it neglects the patient's immediate need for pain management. Options B and C are safer as they either involve consultation with the patient's addiction specialist or avoid opioids altogether.\n",
      "\n",
      "Path 2 (Guidelines) Analysis:\n",
      "The guidelines clearly state that non-opioid analgesics shoul...\n",
      "\n",
      "Structured Medical:\n",
      "Response:\n",
      "Subjective:\n",
      "- Chief complaint: A 32-year-old male patient presents with severe toothache for the last three days.\n",
      "- Relevant history: The patient has a history of substance abuse disorder (heroin) and is currently in active treatment for substance use disorder. He has been maintaining a drug-free lifestyle for the past six months.\n",
      "- Patient's current situation: He's currently having a severe dental abscess in the lower right second molar confirmed by dental radiography.\n",
      "\n",
      "Objective:\n",
      "- Key finding...\n"
     ]
    }
   ],
   "source": [
    "if __name__ == \"__main__\":\n",
    "    main()"
   ]
  },
  {
   "cell_type": "code",
   "execution_count": null,
   "metadata": {},
   "outputs": [],
   "source": []
  }
 ],
 "metadata": {
  "kernelspec": {
   "display_name": "env",
   "language": "python",
   "name": "python3"
  },
  "language_info": {
   "codemirror_mode": {
    "name": "ipython",
    "version": 3
   },
   "file_extension": ".py",
   "mimetype": "text/x-python",
   "name": "python",
   "nbconvert_exporter": "python",
   "pygments_lexer": "ipython3",
   "version": "3.11.8"
  }
 },
 "nbformat": 4,
 "nbformat_minor": 2
}
